{
 "cells": [
  {
   "cell_type": "code",
   "execution_count": null,
   "id": "d3e644e7-1084-4471-be75-312cbd196a64",
   "metadata": {},
   "outputs": [],
   "source": [
    "# Bell State creation and measurement on Quantum Inspire's Starmon-7 backend"
   ]
  },
  {
   "cell_type": "code",
   "execution_count": null,
   "id": "353ac1f1-30b9-446f-a644-1003b41c1e42",
   "metadata": {},
   "outputs": [],
   "source": [
    "# import libraries\n",
    "from qiskit import QuantumCircuit, transpile\n",
    "from qiskit.visualization import plot_histogram\n",
    "from qiskit_quantuminspire.qi_provider import QIProvider # Anthropic -->from quantuminspire.qiskit import QI"
   ]
  },
  {
   "cell_type": "code",
   "execution_count": null,
   "id": "52f88c52-2564-44f3-9fc4-2e82456475ea",
   "metadata": {
    "scrolled": true
   },
   "outputs": [],
   "source": [
    "#login anthropic used deprecated login method but hey we changed it only recently\n",
    "# Set your Quantum Inspire token (replace with your actual token)\n",
    "# QI_TOKEN = \"YOUR_API_TOKEN\"\n",
    "# QI.set_token(QI_TOKEN)\n",
    "!qi login \"https://api.quantum-inspire.com\" #updated and supported way to login"
   ]
  },
  {
   "cell_type": "code",
   "execution_count": null,
   "id": "2076e9f8-942d-4590-8b74-2f1fbc205747",
   "metadata": {},
   "outputs": [],
   "source": [
    "#choose backend (Anthropic)\n",
    "# Select the Starmon-7 backend, while Anthropic got the overall structure logivally ok there are some subtelities.\n",
    "# provider = QI.get_provider()\n",
    "# backend = provider.get_backend('Starmon-7')\n",
    "provider = QIProvider()\n",
    "backend_name = \"Starmon-7\"\n",
    "backend = provider.get_backend(name=backend_name)"
   ]
  },
  {
   "cell_type": "code",
   "execution_count": null,
   "id": "7d2cb980-db1f-478a-a0ce-d83a769cf8aa",
   "metadata": {},
   "outputs": [],
   "source": [
    "# Create a quantum circuit with 2 qubits and 2 classical bits\n",
    "circuit = QuantumCircuit(2, 2)\n",
    "\n",
    "# Create Bell state (|00⟩ + |11⟩)/√2\n",
    "circuit.h(0)       # Apply Hadamard to first qubit\n",
    "circuit.cx(0, 1)   # Apply CNOT with first qubit as control, second as target\n"
   ]
  },
  {
   "cell_type": "code",
   "execution_count": null,
   "id": "2bf26a3a-cf77-417a-9cf3-a3ad5f7c6235",
   "metadata": {},
   "outputs": [],
   "source": [
    "# Measure both qubits\n",
    "circuit.measure([0, 1], [0, 1])"
   ]
  },
  {
   "cell_type": "code",
   "execution_count": null,
   "id": "059c4461-6cc4-49b4-beb0-359b3dfa9655",
   "metadata": {},
   "outputs": [],
   "source": [
    "# Display the circuit\n",
    "print(circuit)"
   ]
  },
  {
   "cell_type": "code",
   "execution_count": null,
   "id": "253ca092-c6e5-465f-a0b4-204d789bc4b4",
   "metadata": {},
   "outputs": [],
   "source": [
    "# Transpile the circuit for the Starmon-7 backend\n",
    "transpiled_circuit = transpile(circuit, backend)"
   ]
  },
  {
   "cell_type": "code",
   "execution_count": null,
   "id": "747e84dd-dff8-48e2-b9a1-4c091d49ff32",
   "metadata": {},
   "outputs": [],
   "source": [
    "# Execute the circuit on the Starmon-7 backend (anthropic)\n",
    "# job = QI.execute(transpiled_circuit, backend=backend, shots=1024)\n",
    "job = backend.run(transpiled_circuit, shots=1024)"
   ]
  },
  {
   "cell_type": "code",
   "execution_count": null,
   "id": "026d37f2-86d1-4a12-8f5a-1ba3cfe352b1",
   "metadata": {},
   "outputs": [],
   "source": [
    "# Get the results\n",
    "result = job.result()\n",
    "counts = result.get_counts()"
   ]
  },
  {
   "cell_type": "code",
   "execution_count": null,
   "id": "dc91726a-49c4-483a-b574-6eec07b6074c",
   "metadata": {},
   "outputs": [],
   "source": [
    "# Display the results\n",
    "print(\"Measurement results:\", counts)\n",
    "plot_histogram(counts)"
   ]
  },
  {
   "cell_type": "code",
   "execution_count": null,
   "id": "f9d3092c-2a7b-4553-ac33-55602b5b1cae",
   "metadata": {},
   "outputs": [],
   "source": []
  }
 ],
 "metadata": {
  "kernelspec": {
   "display_name": "Python 3 (ipykernel)",
   "language": "python",
   "name": "python3"
  },
  "language_info": {
   "codemirror_mode": {
    "name": "ipython",
    "version": 3
   },
   "file_extension": ".py",
   "mimetype": "text/x-python",
   "name": "python",
   "nbconvert_exporter": "python",
   "pygments_lexer": "ipython3",
   "version": "3.12.0"
  }
 },
 "nbformat": 4,
 "nbformat_minor": 5
}
